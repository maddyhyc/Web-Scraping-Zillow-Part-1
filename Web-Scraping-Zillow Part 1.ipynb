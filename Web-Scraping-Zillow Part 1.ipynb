{
 "cells": [
  {
   "cell_type": "code",
   "execution_count": null,
   "metadata": {},
   "outputs": [],
   "source": [
    "library(xml2)\n",
    "library(rvest)\n",
    "library(dplyr)\n",
    "library(stringr)"
   ]
  },
  {
   "cell_type": "code",
   "execution_count": null,
   "metadata": {},
   "outputs": [],
   "source": [
    "url_base <- \"https://www.zillow.com/homes/Santa-Monica,-CA_rb/\""
   ]
  },
  {
   "cell_type": "code",
   "execution_count": null,
   "metadata": {},
   "outputs": [],
   "source": [
    "zpg <- read_html(url_base)"
   ]
  },
  {
   "cell_type": "code",
   "execution_count": null,
   "metadata": {},
   "outputs": [],
   "source": [
    "abc <- data.frame(\n",
    "  price = zpg %>% html_nodes(\".list-card-price\") %>% html_text(),\n",
    "  heading = zpg %>% html_nodes(\".list-card-heading\") %>% html_text(),\n",
    "  add = zpg %>% html_nodes(\".list-card-addr\") %>% html_text(),\n",
    "  type = zpg %>% html_nodes(\".list-card-type\") %>% html_text(),\n",
    "  details = zpg %>% html_nodes(\".list-card-details\") %>% html_text()\n",
    ")"
   ]
  },
  {
   "cell_type": "code",
   "execution_count": null,
   "metadata": {},
   "outputs": [],
   "source": [
    "glimpse(abc)\n",
    "head(abc)"
   ]
  },
  {
   "cell_type": "code",
   "execution_count": null,
   "metadata": {},
   "outputs": [],
   "source": [
    "#Create new bedroom variable, bd\n",
    "bd <- substr(abc$details, 1, 2)\n",
    "bd"
   ]
  },
  {
   "cell_type": "code",
   "execution_count": null,
   "metadata": {},
   "outputs": [],
   "source": [
    "bd <- as.numeric(str_extract_all(bd, \"[0-9]+\"))\n",
    "bd"
   ]
  },
  {
   "cell_type": "code",
   "execution_count": null,
   "metadata": {},
   "outputs": [],
   "source": [
    "#Create new bathroom variable, ba\n",
    "ba <- substr(abc$details, 5, 7)\n",
    "ba"
   ]
  },
  {
   "cell_type": "code",
   "execution_count": null,
   "metadata": {},
   "outputs": [],
   "source": [
    "ba <- as.numeric(str_extract_all(ba, \"[0-9]+\"))\n",
    "ba"
   ]
  },
  {
   "cell_type": "code",
   "execution_count": null,
   "metadata": {},
   "outputs": [],
   "source": [
    "#Create new square-footage variable, sqft\n",
    "sqft <- substr(abc$details, regexpr(\"a\", abc$details), regexpr(\"ft\", abc$details))\n",
    "sqft"
   ]
  },
  {
   "cell_type": "code",
   "execution_count": null,
   "metadata": {},
   "outputs": [],
   "source": [
    "sqft <- str_remove(sqft, \"a\")\n",
    "sqft <- str_remove(sqft, \" sqf\")\n",
    "sqft"
   ]
  },
  {
   "cell_type": "code",
   "execution_count": null,
   "metadata": {},
   "outputs": [],
   "source": [
    "#Binding new bd, ba, and sqft variables to abc2\n",
    "abc2 <- cbind(abc, bd, ba, sqft)"
   ]
  },
  {
   "cell_type": "code",
   "execution_count": null,
   "metadata": {},
   "outputs": [],
   "source": [
    "#Remove heading and details columns\n",
    "data <- abc2 %>% select(-heading, -details)"
   ]
  },
  {
   "cell_type": "code",
   "execution_count": null,
   "metadata": {},
   "outputs": [],
   "source": [
    "glimpse(data)\n",
    "head(data)"
   ]
  },
  {
   "cell_type": "code",
   "execution_count": null,
   "metadata": {},
   "outputs": [],
   "source": [
    "data"
   ]
  },
  {
   "cell_type": "code",
   "execution_count": null,
   "metadata": {},
   "outputs": [],
   "source": [
    "#export data to csv\n",
    "write.csv(data, 'zillow.csv')"
   ]
  }
 ],
 "metadata": {
  "kernelspec": {
   "display_name": "R",
   "language": "R",
   "name": "ir"
  },
  "language_info": {
   "codemirror_mode": "r",
   "file_extension": ".r",
   "mimetype": "text/x-r-source",
   "name": "R",
   "pygments_lexer": "r",
   "version": "3.6.1"
  }
 },
 "nbformat": 4,
 "nbformat_minor": 2
}
